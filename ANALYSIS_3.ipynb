{
 "cells": [
  {
   "cell_type": "code",
   "execution_count": null,
   "metadata": {},
   "outputs": [],
   "source": [
    "# this analysis is for energy cost for the span of past 10 years."
   ]
  },
  {
   "cell_type": "code",
   "execution_count": null,
   "metadata": {},
   "outputs": [],
   "source": [
    "hydro = df[['yyyymmdd','CEA.DGR.HYD']]\n",
    "hydro=hydro.drop(index=range(0,275))\n",
    "print(hydro)\n",
    "df['yyyymmdd'] = pd.to_datetime(df['yyyymmdd'], format='%Y%m%d')\n",
    "df['year'] = df['yyyymmdd'].dt.year\n",
    "yearly_sum2 = df.groupby('year')['CEA.DGR.GAS'].sum().reset_index()\n",
    "yearly_sum2.columns = ['year', 'total_value']\n",
    "yearly_sum2=yearly_sum2.drop(index=6)\n",
    "print(yearly_sum2)\n"
   ]
  }
 ],
 "metadata": {
  "language_info": {
   "name": "python"
  }
 },
 "nbformat": 4,
 "nbformat_minor": 2
}

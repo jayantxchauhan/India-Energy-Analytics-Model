{
 "cells": [
  {
   "cell_type": "code",
   "execution_count": 6,
   "metadata": {},
   "outputs": [],
   "source": [
    "import numpy as ny\n",
    "import pandas as pd\n"
   ]
  },
  {
   "cell_type": "code",
   "execution_count": 10,
   "metadata": {},
   "outputs": [],
   "source": [
    "df = pd.read_csv(r'C:/Users/Sumit/OneDrive/Documents/GITHUB IBM DA/India-Energy-Analytics-Model/India_monthly_data.csv')"
   ]
  },
  {
   "cell_type": "code",
   "execution_count": 11,
   "metadata": {},
   "outputs": [
    {
     "name": "stdout",
     "output_type": "stream",
     "text": [
      "   yyyymm  PET.LPG.CON  PET.NAP.CON  PET.MSP.CON  PET.ATF.CON  PET.SKO.CON  \\\n",
      "0  199804    394.46856    596.08700    447.68483    178.09228   1021.88915   \n",
      "1  199805    392.53362    709.01074    489.86105    177.90225   1128.39596   \n",
      "2  199806    381.08117    627.70891    461.98671    165.27390   1000.89840   \n",
      "3  199807    438.12152    806.93441    451.38282    168.70792    934.15442   \n",
      "4  199808    415.30768    750.95225    449.51906    169.77698    969.68047   \n",
      "\n",
      "   PET.HSD.CON  PET.LDO.CON  PET.LUB.CON  PET.SEC.CON  ...  \\\n",
      "0   3193.43381     89.10071     56.26691    835.62215  ...   \n",
      "1   3273.82226     99.72218     78.27624    951.92611  ...   \n",
      "2   3192.91495     99.90179     93.20537    930.76007  ...   \n",
      "3   2920.60897    108.88729     77.26600   1090.23940  ...   \n",
      "4   2625.25393    111.39742     88.29637   1060.63881  ...   \n",
      "\n",
      "   IDY.PRD.OEA.CEM.OLD  IDY.PRD.OEA.ELY.OLD  IDY.PRD.OEA.COL  IDY.PRD.OEA.CRU  \\\n",
      "0                  NaN                  NaN              NaN              NaN   \n",
      "1                  NaN                  NaN              NaN              NaN   \n",
      "2                  NaN                  NaN              NaN              NaN   \n",
      "3                  NaN                  NaN              NaN              NaN   \n",
      "4                  NaN                  NaN              NaN              NaN   \n",
      "\n",
      "   IDY.PRD.OEA.GAS  IDY.PRD.OEA.PET  IDY.PRD.OEA.FER  IDY.PRD.OEA.STL  \\\n",
      "0              NaN              NaN              NaN              NaN   \n",
      "1              NaN              NaN              NaN              NaN   \n",
      "2              NaN              NaN              NaN              NaN   \n",
      "3              NaN              NaN              NaN              NaN   \n",
      "4              NaN              NaN              NaN              NaN   \n",
      "\n",
      "   IDY.PRD.OEA.CEM  IDY.PRD.OEA.ELY  \n",
      "0              NaN              NaN  \n",
      "1              NaN              NaN  \n",
      "2              NaN              NaN  \n",
      "3              NaN              NaN  \n",
      "4              NaN              NaN  \n",
      "\n",
      "[5 rows x 203 columns]\n"
     ]
    }
   ],
   "source": [
    "print(df.head())"
   ]
  },
  {
   "cell_type": "code",
   "execution_count": null,
   "metadata": {},
   "outputs": [],
   "source": []
  }
 ],
 "metadata": {
  "kernelspec": {
   "display_name": "Python 3",
   "language": "python",
   "name": "python3"
  },
  "language_info": {
   "codemirror_mode": {
    "name": "ipython",
    "version": 3
   },
   "file_extension": ".py",
   "mimetype": "text/x-python",
   "name": "python",
   "nbconvert_exporter": "python",
   "pygments_lexer": "ipython3",
   "version": "3.11.9"
  }
 },
 "nbformat": 4,
 "nbformat_minor": 2
}
